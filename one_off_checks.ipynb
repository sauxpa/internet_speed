{
 "cells": [
  {
   "cell_type": "code",
   "execution_count": 1,
   "id": "46a0282a",
   "metadata": {},
   "outputs": [
    {
     "data": {
      "text/html": [
       "<style>.container { width:95% !important; } </style>"
      ],
      "text/plain": [
       "<IPython.core.display.HTML object>"
      ]
     },
     "metadata": {},
     "output_type": "display_data"
    }
   ],
   "source": [
    "from IPython.core.display import HTML\n",
    "display(HTML('<style>.container { width:95% !important; } </style>'))\n",
    "\n",
    "%load_ext autoreload\n",
    "%autoreload 2"
   ]
  },
  {
   "cell_type": "code",
   "execution_count": 2,
   "id": "62ff07e2",
   "metadata": {},
   "outputs": [],
   "source": [
    "from datetime import datetime as dt\n",
    "import numpy as np\n",
    "import pandas as pd\n",
    "import pytz\n",
    "import speedtest as st"
   ]
  },
  {
   "cell_type": "code",
   "execution_count": 3,
   "id": "e2ea45f3",
   "metadata": {},
   "outputs": [],
   "source": [
    "def get_new_speeds() -> tuple[float, float, float]:\n",
    "    try:\n",
    "        speed_test = st.Speedtest()    \n",
    "        speed_test.get_best_server()\n",
    "    except:\n",
    "        return None, None, None\n",
    "    \n",
    "    # Get ping (miliseconds)\n",
    "    ping = speed_test.results.ping\n",
    "    # Perform download and upload speed tests (bits per second)\n",
    "    download = speed_test.download()\n",
    "    upload = speed_test.upload()\n",
    "\n",
    "    # Convert download and upload speeds to megabits per second\n",
    "    download_mbs = round(download / (10**6), 2)\n",
    "    upload_mbs = round(upload / (10**6), 2)\n",
    "\n",
    "    return (ping, download_mbs, upload_mbs)"
   ]
  },
  {
   "cell_type": "code",
   "execution_count": 4,
   "id": "156a0acb",
   "metadata": {},
   "outputs": [],
   "source": [
    "ping, download_mbs, upload_mbs = get_new_speeds()"
   ]
  },
  {
   "cell_type": "code",
   "execution_count": 5,
   "id": "1bba86d8",
   "metadata": {},
   "outputs": [
    {
     "name": "stdout",
     "output_type": "stream",
     "text": [
      "Ping: None\n",
      "Download ((Mb/s): None\n",
      "Upload ((Mb/s): None\n"
     ]
    }
   ],
   "source": [
    "print(f\"Ping: {ping}\")\n",
    "print(f\"Download ((Mb/s): {download_mbs}\")\n",
    "print(f\"Upload ((Mb/s): {upload_mbs}\")"
   ]
  },
  {
   "cell_type": "code",
   "execution_count": null,
   "id": "cf600274",
   "metadata": {},
   "outputs": [],
   "source": []
  }
 ],
 "metadata": {
  "kernelspec": {
   "display_name": "Python 3 (ipykernel)",
   "language": "python",
   "name": "python3"
  },
  "language_info": {
   "codemirror_mode": {
    "name": "ipython",
    "version": 3
   },
   "file_extension": ".py",
   "mimetype": "text/x-python",
   "name": "python",
   "nbconvert_exporter": "python",
   "pygments_lexer": "ipython3",
   "version": "3.9.12"
  }
 },
 "nbformat": 4,
 "nbformat_minor": 5
}
