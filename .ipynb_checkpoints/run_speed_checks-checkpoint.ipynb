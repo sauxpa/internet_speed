{
 "cells": [
  {
   "cell_type": "code",
   "execution_count": 1,
   "id": "46a0282a",
   "metadata": {},
   "outputs": [
    {
     "data": {
      "text/html": [
       "<style>.container { width:95% !important; } </style>"
      ],
      "text/plain": [
       "<IPython.core.display.HTML object>"
      ]
     },
     "metadata": {},
     "output_type": "display_data"
    }
   ],
   "source": [
    "from IPython.core.display import HTML\n",
    "display(HTML('<style>.container { width:95% !important; } </style>'))\n",
    "\n",
    "%load_ext autoreload\n",
    "%autoreload 2"
   ]
  },
  {
   "cell_type": "code",
   "execution_count": null,
   "id": "62ff07e2",
   "metadata": {},
   "outputs": [],
   "source": [
    "import datetime as dt\n",
    "import numpy as np\n",
    "import pandas as pd\n",
    "import pytz\n",
    "import sched\n",
    "import speedtest as st\n",
    "import time\n",
    "\n",
    "import matplotlib.pyplot as plt\n",
    "import seaborn as sns\n",
    "from matplotlib.ticker import FuncFormatter\n",
    "\n",
    "\n",
    "TIMEZONE = pytz.timezone(\"Europe/London\")\n",
    "plt.style.use('dark_background')\n",
    "\n",
    "PRINT_ONLY = True"
   ]
  },
  {
   "cell_type": "code",
   "execution_count": null,
   "id": "e2ea45f3",
   "metadata": {},
   "outputs": [],
   "source": [
    "def get_new_speeds() -> tuple[float, float, float]:\n",
    "    try:\n",
    "        speed_test = st.Speedtest()    \n",
    "        speed_test.get_best_server()\n",
    "    except:\n",
    "        return None, None, None\n",
    "    \n",
    "    # Get ping (miliseconds)\n",
    "    ping = speed_test.results.ping\n",
    "    # Perform download and upload speed tests (bits per second)\n",
    "    download = speed_test.download()\n",
    "    upload = speed_test.upload()\n",
    "\n",
    "    # Convert download and upload speeds to megabits per second\n",
    "    download_mbs = round(download / (10**6), 2)\n",
    "    upload_mbs = round(upload / (10**6), 2)\n",
    "\n",
    "    return (ping, download_mbs, upload_mbs)\n",
    "\n",
    "\n",
    "def update_csv(internet_speeds: tuple[float, float, float], csv_file_name: str = \"internet_speeds_dataset.csv\", verbose: bool = True):\n",
    "    time_now = dt.datetime.now().replace(tzinfo=TIMEZONE).strftime('%Y-%m-%d %H:%M:%S.%f %Z')\n",
    "    if verbose:\n",
    "        print(time_now)\n",
    "\n",
    "    # Load the CSV to update\n",
    "    try:\n",
    "        csv_dataset = pd.read_csv(csv_file_name, sep=\",\", index_col=\"Time\")\n",
    "    # If there's an error, assume the file does not exist and create\\\n",
    "    # the dataset from scratch\n",
    "    except:\n",
    "        csv_dataset = pd.DataFrame(\n",
    "            list(),\n",
    "            columns=[\"Ping (ms)\", \"Download (Mb/s)\", \"Upload (Mb/s)\"]\n",
    "        )\n",
    "\n",
    "    # Create a one-row DataFrame for the new test results\n",
    "    results_df = pd.DataFrame(\n",
    "        [[ internet_speeds[0], internet_speeds[1], internet_speeds[2] ]],\n",
    "        columns=[\"Ping (ms)\", \"Download (Mb/s)\", \"Upload (Mb/s)\"],\n",
    "        index=[time_now]\n",
    "    )\n",
    "\n",
    "    updated_df = csv_dataset.append(results_df, sort=False)\n",
    "    updated_df.loc[~updated_df.index.duplicated(keep=\"last\")].to_csv(csv_file_name, sep=\",\", index_label=\"Time\")\n",
    "    \n",
    "    \n",
    "def get_new_speeds_and_update(csv_file_name: str = \"internet_speeds_dataset.csv\", verbose: bool = True):\n",
    "    update_csv(get_new_speeds(), csv_file_name, verbose)"
   ]
  },
  {
   "cell_type": "code",
   "execution_count": null,
   "id": "156a0acb",
   "metadata": {},
   "outputs": [],
   "source": [
    "if not PRINT_ONLY:\n",
    "    scheduler = sched.scheduler(time.time, time.sleep)\n",
    "\n",
    "    \n",
    "    def repeat_task():\n",
    "        scheduler.enter(0, 1, get_new_speeds_and_update, ())\n",
    "        scheduler.enter(30, 1, repeat_task, ())\n",
    "\n",
    "\n",
    "    repeat_task()\n",
    "    scheduler.run()"
   ]
  },
  {
   "cell_type": "code",
   "execution_count": null,
   "id": "297e3ccd",
   "metadata": {},
   "outputs": [],
   "source": [
    "def print_data(df: pd.DataFrame, title: str = \"\"):\n",
    "    fig, ax1 = plt.subplots(figsize=(14, 10), nrows=1, ncols=1)\n",
    "\n",
    "    lines_1 = ax1.step(df.index, df[\"Download (Mb/s)\"], where=\"post\", color=\"tab:blue\", alpha=0.2)\n",
    "    lines_1 = ax1.plot(df.index, df[\"Download (Mb/s)\"].rolling(\"30Min\").mean(), color=\"tab:blue\", label=f\"Download: {df['Download (Mb/s)'].mean():.0f} $\\pm$ {df['Download (Mb/s)'].std():.0f} Mb/s\")\n",
    "\n",
    "    lines_2 = ax1.step(df.index, df[\"Upload (Mb/s)\"], where=\"post\", color=\"tab:red\", alpha=0.2)\n",
    "    lines_2 = ax1.plot(df.index, df[\"Upload (Mb/s)\"].rolling(\"30Min\").mean(), color=\"tab:red\", label=f\"Upload: {df['Upload (Mb/s)'].mean():.0f} $\\pm$ {df['Upload (Mb/s)'].std():.0f} Mb/s\")\n",
    "\n",
    "    ax1.set_xlabel(\"Time\", fontsize=15)\n",
    "    ax1.set_ylabel(\"Speed\", fontsize=15)\n",
    "    ax1.tick_params(axis='both', which='major', labelsize=15)\n",
    "\n",
    "    ax2 = ax1.twinx()\n",
    "    lines_3 = ax2.step(df.index, df[\"Ping (ms)\"], where=\"post\", color=\"tab:green\", alpha=0.2)\n",
    "    lines_3 = ax2.step(df.index, df[\"Ping (ms)\"].rolling(\"30Min\").mean(), where=\"post\", color=\"tab:green\", label=\"Ping (ms)\")\n",
    "    lines_3 = ax2.plot(df.index, df[\"Ping (ms)\"].rolling(\"30Min\").mean(), color=\"tab:green\", label=f\"Ping: {df['Ping (ms)'].mean():.0f} $\\pm$ {df['Ping (ms)'].std():.0f} ms\")\n",
    "\n",
    "    ax2.set_ylabel(\"Ping\", fontsize=15)\n",
    "    ax2.tick_params(axis='both', which='major', labelsize=15)\n",
    "\n",
    "    lines = lines_1 + lines_2 + lines_3\n",
    "    labels = [line.get_label() for line in lines]\n",
    "    ax1.legend(lines, labels, loc=\"upper left\", fontsize=15)\n",
    "    \n",
    "    ax1.set_title(title)\n",
    "    \n",
    "    plt.tight_layout()\n",
    "    plt.show()"
   ]
  },
  {
   "cell_type": "code",
   "execution_count": null,
   "id": "0c7f3d91",
   "metadata": {},
   "outputs": [],
   "source": [
    "df = pd.read_csv(\"internet_speeds_dataset.csv\", sep=\",\")\n",
    "df['Time'] = df['Time'].str.replace(\" LMT\", \"\", regex=True)\n",
    "df[\"Time\"] = pd.to_datetime(df[\"Time\"]).dt.tz_localize(\"Europe/London\")\n",
    "df = df.set_index(\"Time\").sort_index()\n",
    "\n",
    "today = dt.date.today()\n",
    "morning = dt.datetime.combine(today, dt.datetime.strptime('0800','%H%M').time()).replace(tzinfo=TIMEZONE)\n",
    "noon = dt.datetime.combine(today, dt.datetime.strptime('1200','%H%M').time()).replace(tzinfo=TIMEZONE)\n",
    "afternoon = dt.datetime.combine(today, dt.datetime.strptime('1400','%H%M').time()).replace(tzinfo=TIMEZONE)\n",
    "evening = dt.datetime.combine(today, dt.datetime.strptime('1800','%H%M').time()).replace(tzinfo=TIMEZONE)\n",
    "\n",
    "df = df.loc[dt.date.today():]\n",
    "df_morning = df.loc[morning:noon]\n",
    "df_noon = df.loc[noon:afternoon]\n",
    "df_afternoon = df.loc[afternoon:evening]\n",
    "df_evening = df.loc[evening:]"
   ]
  },
  {
   "cell_type": "code",
   "execution_count": null,
   "id": "a6005d00",
   "metadata": {},
   "outputs": [],
   "source": [
    "print_data(df, today)"
   ]
  },
  {
   "cell_type": "code",
   "execution_count": null,
   "id": "6c36eef3",
   "metadata": {},
   "outputs": [],
   "source": [
    "print_data(df_morning, \"Morning\")"
   ]
  },
  {
   "cell_type": "code",
   "execution_count": null,
   "id": "4bb3f1b5",
   "metadata": {},
   "outputs": [],
   "source": [
    "print_data(df_noon, \"Noon\")"
   ]
  },
  {
   "cell_type": "code",
   "execution_count": null,
   "id": "c3f2dee3",
   "metadata": {},
   "outputs": [],
   "source": [
    "print_data(df_afternoon, \"Afternoon\")"
   ]
  },
  {
   "cell_type": "code",
   "execution_count": null,
   "id": "2be4aa0d",
   "metadata": {},
   "outputs": [],
   "source": [
    "print_data(df_evening, \"Evening\")"
   ]
  },
  {
   "cell_type": "code",
   "execution_count": null,
   "id": "4c1559b2",
   "metadata": {},
   "outputs": [],
   "source": []
  }
 ],
 "metadata": {
  "kernelspec": {
   "display_name": "Python 3 (ipykernel)",
   "language": "python",
   "name": "python3"
  },
  "language_info": {
   "codemirror_mode": {
    "name": "ipython",
    "version": 3
   },
   "file_extension": ".py",
   "mimetype": "text/x-python",
   "name": "python",
   "nbconvert_exporter": "python",
   "pygments_lexer": "ipython3",
   "version": "3.9.12"
  }
 },
 "nbformat": 4,
 "nbformat_minor": 5
}
